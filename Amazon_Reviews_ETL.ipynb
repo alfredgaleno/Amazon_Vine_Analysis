{
  "nbformat": 4,
  "nbformat_minor": 0,
  "metadata": {
    "colab": {
      "name": "Amazon_Reviews_ETL.ipynb",
      "provenance": [],
      "collapsed_sections": []
    },
    "kernelspec": {
      "name": "python3",
      "display_name": "Python 3"
    },
    "nteract": {
      "version": "0.12.3"
    },
    "language_info": {
      "name": "python"
    }
  },
  "cells": [
    {
      "cell_type": "code",
      "metadata": {
        "id": "V58rxea0HqSa",
        "colab": {
          "base_uri": "https://localhost:8080/"
        },
        "outputId": "726d0cf0-9519-4a2c-cc46-6528621b52bf"
      },
      "source": [
        "import os\n",
        "# Find the latest version of spark 3.0 from http://www.apache.org/dist/spark/ and enter as the spark version\n",
        "# For example:\n",
        "# spark_version = 'spark-3.0.3'\n",
        "spark_version = 'spark-3.0.3'\n",
        "os.environ['SPARK_VERSION']=spark_version\n",
        "\n",
        "# Install Spark and Java\n",
        "!apt-get update\n",
        "!apt-get install openjdk-11-jdk-headless -qq > /dev/null\n",
        "!wget -q http://www.apache.org/dist/spark/$SPARK_VERSION/$SPARK_VERSION-bin-hadoop2.7.tgz\n",
        "!tar xf $SPARK_VERSION-bin-hadoop2.7.tgz\n",
        "!pip install -q findspark\n",
        "\n",
        "# Set Environment Variables\n",
        "import os\n",
        "os.environ[\"JAVA_HOME\"] = \"/usr/lib/jvm/java-11-openjdk-amd64\"\n",
        "os.environ[\"SPARK_HOME\"] = f\"/content/{spark_version}-bin-hadoop2.7\"\n",
        "\n",
        "# Start a SparkSession\n",
        "import findspark\n",
        "findspark.init()"
      ],
      "execution_count": null,
      "outputs": [
        {
          "output_type": "stream",
          "name": "stdout",
          "text": [
            "\r0% [Working]\r            \rHit:1 http://archive.ubuntu.com/ubuntu bionic InRelease\n",
            "\r0% [Connecting to security.ubuntu.com] [Connected to cloud.r-project.org (108.1\r                                                                               \rHit:2 http://archive.ubuntu.com/ubuntu bionic-updates InRelease\n",
            "\r0% [Waiting for headers] [Connecting to security.ubuntu.com] [Waiting for heade\r0% [1 InRelease gpgv 242 kB] [Waiting for headers] [Connecting to security.ubun\r                                                                               \rHit:3 https://cloud.r-project.org/bin/linux/ubuntu bionic-cran40/ InRelease\n",
            "Hit:4 http://archive.ubuntu.com/ubuntu bionic-backports InRelease\n",
            "Ign:5 https://developer.download.nvidia.com/compute/cuda/repos/ubuntu1804/x86_64  InRelease\n",
            "Hit:6 http://security.ubuntu.com/ubuntu bionic-security InRelease\n",
            "Ign:7 https://developer.download.nvidia.com/compute/machine-learning/repos/ubuntu1804/x86_64  InRelease\n",
            "Hit:8 https://developer.download.nvidia.com/compute/cuda/repos/ubuntu1804/x86_64  Release\n",
            "Hit:9 http://ppa.launchpad.net/c2d4u.team/c2d4u4.0+/ubuntu bionic InRelease\n",
            "Hit:10 https://developer.download.nvidia.com/compute/machine-learning/repos/ubuntu1804/x86_64  Release\n",
            "Hit:11 http://ppa.launchpad.net/cran/libgit2/ubuntu bionic InRelease\n",
            "Hit:12 http://ppa.launchpad.net/deadsnakes/ppa/ubuntu bionic InRelease\n",
            "Hit:13 http://ppa.launchpad.net/graphics-drivers/ppa/ubuntu bionic InRelease\n",
            "Reading package lists... Done\n"
          ]
        }
      ]
    },
    {
      "cell_type": "code",
      "metadata": {
        "id": "_xKwTpATHqSe",
        "colab": {
          "base_uri": "https://localhost:8080/"
        },
        "outputId": "8f69d117-3dfa-425e-eb2b-e6317a820842"
      },
      "source": [
        "# Download the Postgres driver that will allow Spark to interact with Postgres.\n",
        "!wget https://jdbc.postgresql.org/download/postgresql-42.2.16.jar"
      ],
      "execution_count": null,
      "outputs": [
        {
          "output_type": "stream",
          "name": "stdout",
          "text": [
            "--2022-03-26 16:17:24--  https://jdbc.postgresql.org/download/postgresql-42.2.16.jar\n",
            "Resolving jdbc.postgresql.org (jdbc.postgresql.org)... 72.32.157.228, 2001:4800:3e1:1::228\n",
            "Connecting to jdbc.postgresql.org (jdbc.postgresql.org)|72.32.157.228|:443... connected.\n",
            "HTTP request sent, awaiting response... 200 OK\n",
            "Length: 1002883 (979K) [application/java-archive]\n",
            "Saving to: ‘postgresql-42.2.16.jar.5’\n",
            "\n",
            "postgresql-42.2.16. 100%[===================>] 979.38K  --.-KB/s    in 0.1s    \n",
            "\n",
            "2022-03-26 16:17:24 (8.89 MB/s) - ‘postgresql-42.2.16.jar.5’ saved [1002883/1002883]\n",
            "\n"
          ]
        }
      ]
    },
    {
      "cell_type": "code",
      "metadata": {
        "id": "MMqDAjVS0KN9"
      },
      "source": [
        "from pyspark.sql import SparkSession\n",
        "spark = SparkSession.builder.appName(\"module-16-challenge\").config(\"spark.driver.extraClassPath\",\"/content/postgresql-42.2.16.jar\").getOrCreate()"
      ],
      "execution_count": null,
      "outputs": []
    },
    {
      "cell_type": "markdown",
      "metadata": {
        "id": "cyBsySGuY-9V"
      },
      "source": [
        "### Load Amazon Data into Spark DataFrame"
      ]
    },
    {
      "cell_type": "code",
      "metadata": {
        "id": "CtCmBhQJY-9Z",
        "colab": {
          "base_uri": "https://localhost:8080/"
        },
        "outputId": "59bf2eb9-7ec9-4b42-c505-f7374fb8286d"
      },
      "source": [
        "from pyspark import SparkFiles\n",
        "url = \"https://s3.amazonaws.com/amazon-reviews-pds/tsv/amazon_reviews_us_Video_Games_v1_00.tsv.gz\"\n",
        "spark.sparkContext.addFile(url)\n",
        "df = spark.read.option(\"encoding\", \"UTF-8\").csv(SparkFiles.get(\"\"), sep=\"\\t\", header=True, inferSchema=True)\n",
        "df.show()"
      ],
      "execution_count": null,
      "outputs": [
        {
          "output_type": "stream",
          "name": "stdout",
          "text": [
            "+-----------+-----------+--------------+----------+--------------+--------------------+----------------+-----------+-------------+-----------+----+-----------------+--------------------+--------------------+-----------+\n",
            "|marketplace|customer_id|     review_id|product_id|product_parent|       product_title|product_category|star_rating|helpful_votes|total_votes|vine|verified_purchase|     review_headline|         review_body|review_date|\n",
            "+-----------+-----------+--------------+----------+--------------+--------------------+----------------+-----------+-------------+-----------+----+-----------------+--------------------+--------------------+-----------+\n",
            "|         US|   49033728|R1P1G5KZ05H6RD|6302503213|     748506413|The Night They Sa...|           Video|          5|            0|          0|   N|                Y|    Very satisfied!!|Fast shipping. Pl...| 2015-08-31|\n",
            "|         US|   17857748|R106N066IUN8ZV|B000059PET|     478710180|Hamlet / Kline, N...|           Video|          5|            0|          0|   N|                Y|The most talented...|Kevin Kline is th...| 2015-08-31|\n",
            "|         US|   25551507| R7WTAA1S5O7D9|0788812807|     981002815|Nascar Dual Power...|           Video|          4|            0|          0|   N|                Y|          Four Stars|         great movie| 2015-08-31|\n",
            "|         US|   21025041|R32HFMVWLYOYJK|6302509939|     333219811|The Man From U.N....|           Video|          5|            0|          0|   N|                Y|          Five Stars|i love the martin...| 2015-08-31|\n",
            "|         US|   40943563| RWT3H6HBVAL6G|B00JENS2BI|     538101194|Playboy Video Par...|           Video|          3|            0|          0|   N|                N|HOT women, dumb j...|Y'know what this ...| 2015-08-31|\n",
            "|         US|   17013969|R1S3T3GWUGQTW7|6305761302|     716303278|Cabaret Balkan - ...|           Video|          5|            0|          0|   N|                Y|          Five Stars|Wonderfully accur...| 2015-08-31|\n",
            "|         US|   47611685|R3R0QYHA800REE|6300157555|     134996462|Wrinkles:in Need ...|           Video|          4|            0|          0|   N|                Y|          Four Stars|In great shape fo...| 2015-08-31|\n",
            "|         US|   35680737|R1FR0EQPHPW5NM|6300189570|     498116870|Ladies Club,the [...|           Video|          4|            1|          2|   N|                N|          Four Stars|When are they goi...| 2015-08-31|\n",
            "|         US|   10747909| RGORN81H45NI7|B000SXQ5US|      77519275|The Campitelli Ad...|           Video|          5|            1|          1|   N|                Y|I was thrilled to...|This is the best ...| 2015-08-31|\n",
            "|         US|     126341|R1CNYN4ABNOJSU|B00008F22G|     917778300|Return of the Jed...|           Video|          5|            0|          0|   N|                Y|          Five Stars|I'm very pleased ...| 2015-08-31|\n",
            "|         US|   40676812|R2DW06821PMN40|6303453961|     187850980|  Class of '61 [VHS]|           Video|          3|            0|          0|   N|                Y|         Three Stars|      Poor quality--| 2015-08-31|\n",
            "|         US|   19863533|R1CS8AMA8B0VBJ|6302453178|     901056605|Texas Carnival [VHS]|           Video|          5|            0|          0|   N|                Y|Texas Carnival movie|Great Howard Keel...| 2015-08-31|\n",
            "|         US|   13308975|R343CPRI4MC9J0|6304475330|     472277071|National Geograph...|           Video|          5|            0|          0|   N|                N|One of my All Tim...|I loved this vide...| 2015-08-31|\n",
            "|         US|    1989554| R3XP0G8P2BOTP|B000XPQ18W|     627738468| The Intruder Within|           Video|          5|            1|          2|   N|                Y|          Five Stars|excellent, no com...| 2015-08-31|\n",
            "|         US|   14885930|R3NK7014K996PF|0800113055|     585148093|It Happened One N...|           Video|          2|            0|          4|   N|                Y|        Almost great|Was soon looking ...| 2015-08-31|\n",
            "|         US|   24203443| ROIQI6ZW6UVL9|6300133338|     966466095|       Robbery [VHS]|           Video|          5|            0|          0|   N|                Y|Based on the grea...|Based on the grea...| 2015-08-31|\n",
            "|         US|   14885930| RECPIN4UZI76Z|6304119054|     399731786|The Magnificent A...|           Video|          2|            0|          2|   N|                Y|           Not great|Honestly I didn't...| 2015-08-31|\n",
            "|         US|   41133700|R3FE5KO613PMVI|B000006CPD|     509239068|     Streamers [VHS]|           Video|          1|            0|          0|   N|                Y|Low quality recor...|Movie is great - ...| 2015-08-31|\n",
            "|         US|   46580399|R2EC74PS45RAOR|189218608X|     773411366|Special Kids Spee...|           Video|          5|            0|          0|   N|                Y|          Five Stars|These tapes are a...| 2015-08-31|\n",
            "|         US|   19863533|R3FZ5C78PP7ZD7|6302754348|     536886134|Arizona Bushwhack...|           Video|          5|            1|          1|   N|                Y|Arizona Bushwacke...|Awesome Howard Ke...| 2015-08-31|\n",
            "+-----------+-----------+--------------+----------+--------------+--------------------+----------------+-----------+-------------+-----------+----+-----------------+--------------------+--------------------+-----------+\n",
            "only showing top 20 rows\n",
            "\n"
          ]
        }
      ]
    },
    {
      "cell_type": "markdown",
      "metadata": {
        "id": "2yUSe55VY-9t"
      },
      "source": [
        "### Create DataFrames to match tables"
      ]
    },
    {
      "cell_type": "code",
      "metadata": {
        "id": "C8REmY1aY-9u"
      },
      "source": [
        "from pyspark.sql.functions import to_date\n",
        "# Read in the Review dataset as a DataFrame\n"
      ],
      "execution_count": null,
      "outputs": []
    },
    {
      "cell_type": "code",
      "metadata": {
        "id": "B0TESUDRY-90",
        "colab": {
          "base_uri": "https://localhost:8080/"
        },
        "outputId": "42cb6055-0806-4e1e-e467-c0d84fc3d2f2"
      },
      "source": [
        "# Create the customers_table DataFrame\n",
        "customers_df = df.groupby(\"customer_id\").agg({\"customer_id\":\"count\"}).withColumnRenamed(\"count(customer_id)\", \"customer_count\")\n",
        "customers_df.show(10)"
      ],
      "execution_count": null,
      "outputs": [
        {
          "output_type": "stream",
          "name": "stdout",
          "text": [
            "+-----------+--------------+\n",
            "|customer_id|customer_count|\n",
            "+-----------+--------------+\n",
            "|   35645596|             1|\n",
            "|   50851028|             1|\n",
            "|   20686161|             2|\n",
            "|   15191478|             2|\n",
            "|    2202715|             1|\n",
            "|   48333068|             1|\n",
            "|   22910908|             2|\n",
            "|   38463562|             1|\n",
            "|   26902200|             1|\n",
            "|   10546543|             1|\n",
            "+-----------+--------------+\n",
            "only showing top 10 rows\n",
            "\n"
          ]
        }
      ]
    },
    {
      "cell_type": "code",
      "metadata": {
        "id": "4FwXA6UvY-96",
        "colab": {
          "base_uri": "https://localhost:8080/"
        },
        "outputId": "746466e3-b420-4190-b0a8-6deb4f4ca3db"
      },
      "source": [
        "# Create the products_table DataFrame and drop duplicates. \n",
        "products_df = df.select([\"product_id\",\"product_title\"]).drop_duplicates()\n",
        "products_df.show(10)"
      ],
      "execution_count": null,
      "outputs": [
        {
          "output_type": "stream",
          "name": "stdout",
          "text": [
            "+----------+--------------------+\n",
            "|product_id|       product_title|\n",
            "+----------+--------------------+\n",
            "|0788806270|Bambi (Walt Disne...|\n",
            "|078881107X|Kiki's Delivery S...|\n",
            "|6303559018|To Catch a Yeti [...|\n",
            "|6302844061|      Silkwood [VHS]|\n",
            "|B00003XAMY|Wagons Roll at Ni...|\n",
            "|0783216084|          Jaws [VHS]|\n",
            "|6301966376|The Compleat Beat...|\n",
            "|6303315429| Yoga for Life [VHS]|\n",
            "|6302969204|Miracle in Milan ...|\n",
            "|6301540441|As Summers Die [VHS]|\n",
            "+----------+--------------------+\n",
            "only showing top 10 rows\n",
            "\n"
          ]
        }
      ]
    },
    {
      "cell_type": "code",
      "metadata": {
        "id": "MkqyCuNQY-9-",
        "colab": {
          "base_uri": "https://localhost:8080/"
        },
        "outputId": "ca3abd39-01f0-4444-f8e7-60852224a580"
      },
      "source": [
        "# Create the review_id_table DataFrame. \n",
        "# Convert the 'review_date' column to a date datatype with to_date(\"review_date\", 'yyyy-MM-dd').alias(\"review_date\")\n",
        "from pyspark.sql.functions import to_date\n",
        "review_id_df = df.select([\"review_id\",\"customer_id\",\"product_id\",\"product_parent\", to_date(\"review_date\", 'yyyy-MM-dd').alias(\"review_date\")])\n",
        "review_id_df.show(10)"
      ],
      "execution_count": null,
      "outputs": [
        {
          "output_type": "stream",
          "name": "stdout",
          "text": [
            "+--------------+-----------+----------+--------------+-----------+\n",
            "|     review_id|customer_id|product_id|product_parent|review_date|\n",
            "+--------------+-----------+----------+--------------+-----------+\n",
            "|R1P1G5KZ05H6RD|   49033728|6302503213|     748506413| 2015-08-31|\n",
            "|R106N066IUN8ZV|   17857748|B000059PET|     478710180| 2015-08-31|\n",
            "| R7WTAA1S5O7D9|   25551507|0788812807|     981002815| 2015-08-31|\n",
            "|R32HFMVWLYOYJK|   21025041|6302509939|     333219811| 2015-08-31|\n",
            "| RWT3H6HBVAL6G|   40943563|B00JENS2BI|     538101194| 2015-08-31|\n",
            "|R1S3T3GWUGQTW7|   17013969|6305761302|     716303278| 2015-08-31|\n",
            "|R3R0QYHA800REE|   47611685|6300157555|     134996462| 2015-08-31|\n",
            "|R1FR0EQPHPW5NM|   35680737|6300189570|     498116870| 2015-08-31|\n",
            "| RGORN81H45NI7|   10747909|B000SXQ5US|      77519275| 2015-08-31|\n",
            "|R1CNYN4ABNOJSU|     126341|B00008F22G|     917778300| 2015-08-31|\n",
            "+--------------+-----------+----------+--------------+-----------+\n",
            "only showing top 10 rows\n",
            "\n"
          ]
        }
      ]
    },
    {
      "cell_type": "code",
      "metadata": {
        "id": "lzMmkdKmY--D",
        "colab": {
          "base_uri": "https://localhost:8080/"
        },
        "outputId": "f0f4d59c-0697-4041-c0f2-6f1c8874e729"
      },
      "source": [
        "# Create the vine_table. DataFrame\n",
        "vine_df = df.select([\"review_id\",\"star_rating\",\"helpful_votes\",\"total_votes\",\"vine\",\"verified_purchase\"])\n",
        "vine_df.show(10)"
      ],
      "execution_count": null,
      "outputs": [
        {
          "output_type": "stream",
          "name": "stdout",
          "text": [
            "+--------------+-----------+-------------+-----------+----+-----------------+\n",
            "|     review_id|star_rating|helpful_votes|total_votes|vine|verified_purchase|\n",
            "+--------------+-----------+-------------+-----------+----+-----------------+\n",
            "|R1P1G5KZ05H6RD|          5|            0|          0|   N|                Y|\n",
            "|R106N066IUN8ZV|          5|            0|          0|   N|                Y|\n",
            "| R7WTAA1S5O7D9|          4|            0|          0|   N|                Y|\n",
            "|R32HFMVWLYOYJK|          5|            0|          0|   N|                Y|\n",
            "| RWT3H6HBVAL6G|          3|            0|          0|   N|                N|\n",
            "|R1S3T3GWUGQTW7|          5|            0|          0|   N|                Y|\n",
            "|R3R0QYHA800REE|          4|            0|          0|   N|                Y|\n",
            "|R1FR0EQPHPW5NM|          4|            1|          2|   N|                N|\n",
            "| RGORN81H45NI7|          5|            1|          1|   N|                Y|\n",
            "|R1CNYN4ABNOJSU|          5|            0|          0|   N|                Y|\n",
            "+--------------+-----------+-------------+-----------+----+-----------------+\n",
            "only showing top 10 rows\n",
            "\n"
          ]
        }
      ]
    },
    {
      "cell_type": "markdown",
      "metadata": {
        "id": "jITZhLkmY--J"
      },
      "source": [
        "### Connect to the AWS RDS instance and write each DataFrame to its table. "
      ]
    },
    {
      "cell_type": "code",
      "metadata": {
        "id": "7jiUvs1aY--L"
      },
      "source": [
        "# Configure settings for RDS\n",
        "mode = \"append\"\n",
        "jdbc_url=\"jdbc:postgresql://module-16-challenge.c6vra15jaa9i.us-east-2.rds.amazonaws.com:5432/Module 16 Challenge\"\n",
        "config = {\"user\":\"postgres\", \n",
        "          \"password\": \"Challenge16!\", \n",
        "          \"driver\":\"org.postgresql.Driver\"}"
      ],
      "execution_count": null,
      "outputs": []
    },
    {
      "cell_type": "code",
      "metadata": {
        "id": "T2zgZ-aKY--Q"
      },
      "source": [
        "# Write review_id_df to table in RDS\n",
        "review_id_df.write.jdbc(url=jdbc_url, table='review_id_table', mode=mode, properties=config)"
      ],
      "execution_count": null,
      "outputs": []
    },
    {
      "cell_type": "code",
      "metadata": {
        "id": "1m3yzn-LY--U"
      },
      "source": [
        "# Write products_df to table in RDS\n",
        "# about 3 min\n",
        "products_df.write.jdbc(url=jdbc_url, table='products_table', mode=mode, properties=config)"
      ],
      "execution_count": null,
      "outputs": []
    },
    {
      "cell_type": "code",
      "metadata": {
        "id": "KbXri15fY--Z"
      },
      "source": [
        "# Write customers_df to table in RDS\n",
        "# 5 min 14 s\n",
        "customers_df.write.jdbc(url=jdbc_url, table='customers_table', mode=mode, properties=config)"
      ],
      "execution_count": null,
      "outputs": []
    },
    {
      "cell_type": "code",
      "metadata": {
        "id": "XdQknSHLY--e"
      },
      "source": [
        "# Write vine_df to table in RDS\n",
        "# 11 minutes\n",
        "vine_df.write.jdbc(url=jdbc_url, table='vine_table', mode=mode, properties=config)"
      ],
      "execution_count": null,
      "outputs": []
    },
    {
      "cell_type": "code",
      "metadata": {
        "id": "Exuo6ebUsCqW"
      },
      "source": [
        ""
      ],
      "execution_count": null,
      "outputs": []
    }
  ]
}